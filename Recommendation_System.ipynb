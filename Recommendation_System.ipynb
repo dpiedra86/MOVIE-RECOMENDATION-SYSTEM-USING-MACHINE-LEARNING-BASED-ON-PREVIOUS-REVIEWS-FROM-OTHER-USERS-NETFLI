{
  "nbformat": 4,
  "nbformat_minor": 0,
  "metadata": {
    "colab": {
      "name": "Recommendation_System.ipynb",
      "provenance": []
    },
    "kernelspec": {
      "name": "python3",
      "display_name": "Python 3"
    },
    "language_info": {
      "name": "python"
    }
  },
  "cells": [
    {
      "cell_type": "markdown",
      "source": [
        " **Preprocess and load data**"
      ],
      "metadata": {
        "id": "4L4n-6rpGEXK"
      }
    },
    {
      "cell_type": "code",
      "source": [
        "import os\n",
        "# Find the latest version of spark 3.3 from http://www.apache.org/dist/spark/ and enter as the spark version\n",
        "# For example:\n",
        "# spark_version = 'spark-3.3.0'\n",
        "spark_version = 'spark-3.3.0'\n",
        "os.environ['SPARK_VERSION']=spark_version\n",
        "\n",
        "# Install Spark and Java\n",
        "!apt-get update\n",
        "!apt-get install openjdk-11-jdk-headless -qq > /dev/null\n",
        "!wget -q http://www.apache.org/dist/spark/$SPARK_VERSION/$SPARK_VERSION-bin-hadoop3.tgz\n",
        "!tar xf $SPARK_VERSION-bin-hadoop3.tgz\n",
        "!pip install -q findspark\n",
        "\n",
        "# Set Environment Variables\n",
        "import os\n",
        "os.environ[\"JAVA_HOME\"] = \"/usr/lib/jvm/java-11-openjdk-amd64\"\n",
        "os.environ[\"SPARK_HOME\"] = f\"/content/{spark_version}-bin-hadoop3\"\n",
        "\n",
        "# Start a SparkSession\n",
        "import findspark\n",
        "findspark.init()"
      ],
      "metadata": {
        "colab": {
          "base_uri": "https://localhost:8080/"
        },
        "id": "q2Du28m6GB5_",
        "outputId": "dc06079a-8149-428c-d857-173b184930f7"
      },
      "execution_count": 1,
      "outputs": [
        {
          "output_type": "stream",
          "name": "stdout",
          "text": [
            "\r0% [Working]\r            \rHit:1 https://cloud.r-project.org/bin/linux/ubuntu bionic-cran40/ InRelease\n",
            "\r0% [Waiting for headers] [Waiting for headers] [Waiting for headers] [Connectin\r0% [1 InRelease gpgv 3,626 B] [Waiting for headers] [Waiting for headers] [Wait\r                                                                               \rGet:2 http://security.ubuntu.com/ubuntu bionic-security InRelease [88.7 kB]\n",
            "\r0% [1 InRelease gpgv 3,626 B] [Waiting for headers] [2 InRelease 14.2 kB/88.7 k\r                                                                               \rHit:3 http://archive.ubuntu.com/ubuntu bionic InRelease\n",
            "\r0% [1 InRelease gpgv 3,626 B] [Waiting for headers] [2 InRelease 48.9 kB/88.7 k\r                                                                               \rIgn:4 https://developer.download.nvidia.com/compute/machine-learning/repos/ubuntu1804/x86_64  InRelease\n",
            "\r0% [1 InRelease gpgv 3,626 B] [Waiting for headers] [2 InRelease 51.8 kB/88.7 k\r                                                                               \rHit:5 https://developer.download.nvidia.com/compute/cuda/repos/ubuntu1804/x86_64  InRelease\n",
            "Hit:6 https://developer.download.nvidia.com/compute/machine-learning/repos/ubuntu1804/x86_64  Release\n",
            "Hit:7 http://ppa.launchpad.net/c2d4u.team/c2d4u4.0+/ubuntu bionic InRelease\n",
            "Get:8 http://archive.ubuntu.com/ubuntu bionic-updates InRelease [88.7 kB]\n",
            "Hit:9 http://ppa.launchpad.net/cran/libgit2/ubuntu bionic InRelease\n",
            "Hit:10 http://ppa.launchpad.net/deadsnakes/ppa/ubuntu bionic InRelease\n",
            "Get:11 http://archive.ubuntu.com/ubuntu bionic-backports InRelease [74.6 kB]\n",
            "Hit:12 http://ppa.launchpad.net/graphics-drivers/ppa/ubuntu bionic InRelease\n",
            "Fetched 252 kB in 3s (78.2 kB/s)\n",
            "Reading package lists... Done\n"
          ]
        }
      ]
    },
    {
      "cell_type": "code",
      "source": [
        "# Download the Postgres driver that will allow Spark to interact with Postgres.\n",
        "!wget https://jdbc.postgresql.org/download/postgresql-42.2.16.jar"
      ],
      "metadata": {
        "colab": {
          "base_uri": "https://localhost:8080/"
        },
        "id": "qH3tmGIq69r1",
        "outputId": "6bbc9f64-4033-4f76-e586-16a4d30717d6"
      },
      "execution_count": 2,
      "outputs": [
        {
          "output_type": "stream",
          "name": "stdout",
          "text": [
            "--2022-08-27 21:51:55--  https://jdbc.postgresql.org/download/postgresql-42.2.16.jar\n",
            "Resolving jdbc.postgresql.org (jdbc.postgresql.org)... 72.32.157.228, 2001:4800:3e1:1::228\n",
            "Connecting to jdbc.postgresql.org (jdbc.postgresql.org)|72.32.157.228|:443... connected.\n",
            "HTTP request sent, awaiting response... 200 OK\n",
            "Length: 1002883 (979K) [application/java-archive]\n",
            "Saving to: ‘postgresql-42.2.16.jar.3’\n",
            "\n",
            "postgresql-42.2.16. 100%[===================>] 979.38K  6.24MB/s    in 0.2s    \n",
            "\n",
            "2022-08-27 21:51:56 (6.24 MB/s) - ‘postgresql-42.2.16.jar.3’ saved [1002883/1002883]\n",
            "\n"
          ]
        }
      ]
    },
    {
      "cell_type": "code",
      "source": [
        "# Start Spark Session\n",
        "from pyspark.sql import SparkSession\n",
        "spark = SparkSession.builder.appName(\"Netflix Movies\").config(\"spark.driver.extraClassPath\",\"/content/postgresql-42.2.16.jar\").getOrCreate()"
      ],
      "metadata": {
        "id": "hlxUkXeY7ESk"
      },
      "execution_count": 3,
      "outputs": []
    },
    {
      "cell_type": "code",
      "source": [
        "# Read in data from S3 Buckets\n",
        "from pyspark import SparkFiles\n",
        "url =\"https://luiwarang-bucket.s3.amazonaws.com/Netflix_Dataset_Movie_Rating.csv\"\n",
        "spark.sparkContext.addFile(url)\n",
        "user_data_df = spark.read.csv(SparkFiles.get(\"Netflix_Dataset_Movie_Rating.csv\"), sep=\",\", header=True, inferSchema=True)\n"
      ],
      "metadata": {
        "id": "QP1LnX0v7KCd"
      },
      "execution_count": 4,
      "outputs": []
    },
    {
      "cell_type": "code",
      "source": [
        "user_data_df.show()"
      ],
      "metadata": {
        "colab": {
          "base_uri": "https://localhost:8080/"
        },
        "id": "lOdD7bUs7Pip",
        "outputId": "71034271-6faf-4df1-c301-e537f33b8cd8"
      },
      "execution_count": 5,
      "outputs": [
        {
          "output_type": "stream",
          "name": "stdout",
          "text": [
            "+--------+----+---------+-------+------+\n",
            "|movie_id|year|     name|user_id|rating|\n",
            "+--------+----+---------+-------+------+\n",
            "|       3|1997|Character| 712664|     5|\n",
            "|       3|1997|Character|1331154|     4|\n",
            "|       3|1997|Character|2632461|     3|\n",
            "|       3|1997|Character|  44937|     5|\n",
            "|       3|1997|Character| 656399|     4|\n",
            "|       3|1997|Character| 439011|     1|\n",
            "|       3|1997|Character|1644750|     3|\n",
            "|       3|1997|Character|2031561|     4|\n",
            "|       3|1997|Character| 616720|     4|\n",
            "|       3|1997|Character|2467008|     4|\n",
            "|       3|1997|Character| 701730|     2|\n",
            "|       3|1997|Character|1614320|     4|\n",
            "|       3|1997|Character| 115498|     3|\n",
            "|       3|1997|Character| 931626|     2|\n",
            "|       3|1997|Character| 699878|     4|\n",
            "|       3|1997|Character|1694958|     3|\n",
            "|       3|1997|Character|  66414|     5|\n",
            "|       3|1997|Character|2519847|     5|\n",
            "|       3|1997|Character| 948069|     3|\n",
            "|       3|1997|Character|  67315|     4|\n",
            "+--------+----+---------+-------+------+\n",
            "only showing top 20 rows\n",
            "\n"
          ]
        }
      ]
    },
    {
      "cell_type": "code",
      "source": [
        "# Determine how many columns the dataframe has\n",
        "user_data_df.columns"
      ],
      "metadata": {
        "colab": {
          "base_uri": "https://localhost:8080/"
        },
        "id": "edDy2CTt7dVj",
        "outputId": "a672bd66-d122-4cff-d8c9-547f64b83018"
      },
      "execution_count": 6,
      "outputs": [
        {
          "output_type": "execute_result",
          "data": {
            "text/plain": [
              "['movie_id', 'year', 'name', 'user_id', 'rating']"
            ]
          },
          "metadata": {},
          "execution_count": 6
        }
      ]
    },
    {
      "cell_type": "code",
      "source": [
        "# List dataframe data types\n",
        "user_data_df.dtypes"
      ],
      "metadata": {
        "colab": {
          "base_uri": "https://localhost:8080/"
        },
        "id": "VHsxVtin7oyh",
        "outputId": "b130c25f-ba14-4bcf-f7dd-90a6f96faac9"
      },
      "execution_count": 7,
      "outputs": [
        {
          "output_type": "execute_result",
          "data": {
            "text/plain": [
              "[('movie_id', 'int'),\n",
              " ('year', 'int'),\n",
              " ('name', 'string'),\n",
              " ('user_id', 'int'),\n",
              " ('rating', 'int')]"
            ]
          },
          "metadata": {},
          "execution_count": 7
        }
      ]
    },
    {
      "cell_type": "code",
      "source": [
        "# Drop null columns\n",
        "user_data_df =user_data_df.dropna()"
      ],
      "metadata": {
        "id": "osKQ3dJR8EBy"
      },
      "execution_count": 8,
      "outputs": []
    },
    {
      "cell_type": "code",
      "source": [
        "# Separate the feature(x) from the target\n",
        "from pyspark.sql.functions import col\n",
        "X = user_data_df.drop(col(\"rating\"))\n",
        "y = user_data_df[\"rating\"]"
      ],
      "metadata": {
        "id": "0B5weuVm8f79"
      },
      "execution_count": 9,
      "outputs": []
    },
    {
      "cell_type": "code",
      "source": [
        "# Split into training and testing sets\n",
        "train, test = user_data_df.randomSplit(weights=(0.8, 0.2))"
      ],
      "metadata": {
        "id": "pmAGVJIK9iip"
      },
      "execution_count": 10,
      "outputs": []
    },
    {
      "cell_type": "code",
      "source": [],
      "metadata": {
        "id": "j2OlPLQUIDhs"
      },
      "execution_count": 10,
      "outputs": []
    },
    {
      "cell_type": "markdown",
      "source": [
        "**Building Recommendation Model using ALS**"
      ],
      "metadata": {
        "id": "bS9LyoO2IELp"
      }
    },
    {
      "cell_type": "code",
      "source": [
        "# Build the recommendation model using ALS on the training data\n",
        "from pyspark.ml.recommendation import ALS\n",
        "from pyspark.ml.evaluation import RegressionEvaluator\n",
        "\n",
        "als = ALS(maxIter=10, regParam=0.1, rank=8, nonnegative=True, coldStartStrategy=\"drop\",\\\n",
        "          userCol='user_id', itemCol='movie_id', ratingCol='rating')\n",
        "model = als.fit(train)\n"
      ],
      "metadata": {
        "id": "ct1Z3fiC9mZI"
      },
      "execution_count": 11,
      "outputs": []
    },
    {
      "cell_type": "code",
      "source": [],
      "metadata": {
        "id": "dpqnBH8kINut"
      },
      "execution_count": 11,
      "outputs": []
    },
    {
      "cell_type": "markdown",
      "source": [
        "**Making predictions with ALS Model**"
      ],
      "metadata": {
        "id": "PvfGYicbISuf"
      }
    },
    {
      "cell_type": "code",
      "source": [
        "# importing appropriate library\n",
        "from pyspark.ml.evaluation import RegressionEvaluator\n",
        "\n",
        "# Evaluate the model by computing the RMSE on the test data\n",
        "predictions = model.transform(test)\n",
        "predictions"
      ],
      "metadata": {
        "colab": {
          "base_uri": "https://localhost:8080/"
        },
        "id": "ZXzEiMJ4-AIC",
        "outputId": "8399faf5-fb62-4a5d-ac3f-54f46f752ebb"
      },
      "execution_count": 12,
      "outputs": [
        {
          "output_type": "execute_result",
          "data": {
            "text/plain": [
              "DataFrame[movie_id: int, year: int, name: string, user_id: int, rating: int, prediction: float]"
            ]
          },
          "metadata": {},
          "execution_count": 12
        }
      ]
    },
    {
      "cell_type": "code",
      "source": [
        "predictions.show()"
      ],
      "metadata": {
        "colab": {
          "base_uri": "https://localhost:8080/"
        },
        "id": "iU2dRPgZ_7Es",
        "outputId": "2ed1def5-801c-4b8b-b05c-02e9db1885c1"
      },
      "execution_count": 13,
      "outputs": [
        {
          "output_type": "stream",
          "name": "stdout",
          "text": [
            "+--------+----+--------------------+-------+------+----------+\n",
            "|movie_id|year|                name|user_id|rating|prediction|\n",
            "+--------+----+--------------------+-------+------+----------+\n",
            "|       3|1997|           Character|1608536|     5|  4.003406|\n",
            "|       3|1997|           Character|2190625|     1| 3.2696831|\n",
            "|       3|1997|           Character|2427438|     4|  4.138896|\n",
            "|       8|2004|What the #$*! Do ...|  94851|     2| 2.9840095|\n",
            "|       8|2004|What the #$*! Do ...|1046377|     4| 3.2521875|\n",
            "|       8|2004|What the #$*! Do ...|1323740|     4|  3.134016|\n",
            "|       8|2004|What the #$*! Do ...|1497891|     4| 2.7242157|\n",
            "|       8|2004|What the #$*! Do ...|1577862|     5| 4.0240355|\n",
            "|       8|2004|What the #$*! Do ...|1713085|     2| 3.1967816|\n",
            "|       8|2004|What the #$*! Do ...|1769353|     3| 3.0402372|\n",
            "|       8|2004|What the #$*! Do ...|1896167|     2| 3.0210369|\n",
            "|      16|1996|           Screamers|1628484|     2|  2.778148|\n",
            "|      16|1996|           Screamers|1990657|     3|  2.886959|\n",
            "|      17|2005|           7 Seconds|1239654|     2| 3.1118548|\n",
            "|      17|2005|           7 Seconds|1713085|     3| 2.6879117|\n",
            "|      18|1994|    Immortal Beloved| 128389|     1| 3.2784095|\n",
            "|      18|1994|    Immortal Beloved| 186519|     4| 3.8677735|\n",
            "|      18|1994|    Immortal Beloved| 206817|     4| 3.9798694|\n",
            "|      18|1994|    Immortal Beloved| 284489|     4| 3.6613865|\n",
            "|      18|1994|    Immortal Beloved| 302344|     4| 3.8030014|\n",
            "+--------+----+--------------------+-------+------+----------+\n",
            "only showing top 20 rows\n",
            "\n"
          ]
        }
      ]
    },
    {
      "cell_type": "markdown",
      "source": [
        "\n",
        "**Evaluate the predictions**"
      ],
      "metadata": {
        "id": "OZNbp74KAYMl"
      }
    },
    {
      "cell_type": "code",
      "source": [
        "# using RMSE to evaluate the model\n",
        "evaluator = RegressionEvaluator(metricName='rmse', predictionCol='prediction', labelCol='rating')\n",
        "rmse = evaluator.evaluate(predictions)\n",
        "print('RMSE: %.4f' % rmse)"
      ],
      "metadata": {
        "colab": {
          "base_uri": "https://localhost:8080/"
        },
        "id": "RnPO4M3FAlnn",
        "outputId": "2c4a1788-3517-409d-e7db-7f90eedb77ed"
      },
      "execution_count": 14,
      "outputs": [
        {
          "output_type": "stream",
          "name": "stdout",
          "text": [
            "RMSE: 0.8583\n"
          ]
        }
      ]
    },
    {
      "cell_type": "markdown",
      "source": [
        "**Making movie recommendations to users**"
      ],
      "metadata": {
        "id": "Q1BoN6ZpIcR9"
      }
    },
    {
      "cell_type": "code",
      "source": [
        "# Filter for user data history( in this case we will use user 7 as an example)\n",
        "data_history = train.filter(train['user_id']==7)\n",
        "data_history.show()"
      ],
      "metadata": {
        "colab": {
          "base_uri": "https://localhost:8080/"
        },
        "id": "1dhUo9EfBhZx",
        "outputId": "9741bea4-87f7-4901-b5c4-9a26bddd589c"
      },
      "execution_count": 15,
      "outputs": [
        {
          "output_type": "stream",
          "name": "stdout",
          "text": [
            "+--------+----+--------------------+-------+------+\n",
            "|movie_id|year|                name|user_id|rating|\n",
            "+--------+----+--------------------+-------+------+\n",
            "|       8|2004|What the #$*! Do ...|      7|     5|\n",
            "|      28|2002|     Lilo and Stitch|      7|     4|\n",
            "|      30|2003|Something's Gotta...|      7|     5|\n",
            "|      83|1983|            Silkwood|      7|     5|\n",
            "|     175|1992|      Reservoir Dogs|      7|     5|\n",
            "|     185|1985|Missing in Action...|      7|     4|\n",
            "|     257|1973|     Charlotte's Web|      7|     5|\n",
            "|     273|2004|                Taxi|      7|     4|\n",
            "|     283|1996|If These Walls Co...|      7|     5|\n",
            "|     285|1997|     The Devil's Own|      7|     5|\n",
            "|     313|2000|      Pay It Forward|      7|     5|\n",
            "|     329|1999|               Dogma|      7|     4|\n",
            "|     348|1988|The Last Temptati...|      7|     4|\n",
            "|     357|2003|House of Sand and...|      7|     5|\n",
            "|     457|2004|   Kill Bill: Vol. 2|      7|     5|\n",
            "|     468|2003|The Matrix: Revol...|      7|     5|\n",
            "|     535|1960|           The Alamo|      7|     3|\n",
            "|     550|1995|        First Knight|      7|     5|\n",
            "|     563|2001|Jimmy Neutron: Bo...|      7|     2|\n",
            "|     571|1999|     American Beauty|      7|     4|\n",
            "+--------+----+--------------------+-------+------+\n",
            "only showing top 20 rows\n",
            "\n"
          ]
        }
      ]
    },
    {
      "cell_type": "code",
      "source": [
        "# Create a suggestion movie list for the user\n",
        "movie_list_suggestion = test.filter(train['user_id']==7).select(['movie_id','name', 'user_id','year'])\n",
        "movie_list_suggestion.show()"
      ],
      "metadata": {
        "colab": {
          "base_uri": "https://localhost:8080/"
        },
        "id": "rcvQhnwtD_pM",
        "outputId": "676dfa5b-bb65-47d0-8696-deac5958af3f"
      },
      "execution_count": 16,
      "outputs": [
        {
          "output_type": "stream",
          "name": "stdout",
          "text": [
            "+--------+--------------------+-------+----+\n",
            "|movie_id|                name|user_id|year|\n",
            "+--------+--------------------+-------+----+\n",
            "|     191|    X2: X-Men United|      7|2003|\n",
            "|     299|Bridget Jones's D...|      7|2001|\n",
            "|     501|Three Days of the...|      7|1975|\n",
            "|     708|   The Perfect Storm|      7|2000|\n",
            "|     758|          Mean Girls|      7|2004|\n",
            "|     937|              Fallen|      7|1998|\n",
            "|     940|            Hercules|      7|1997|\n",
            "|    1046|        Uptown Girls|      7|2003|\n",
            "|    1066| Superman: The Movie|      7|1978|\n",
            "|    1102|        Training Day|      7|2001|\n",
            "|    1220|         Man on Fire|      7|2004|\n",
            "|    1289|Look Who's Talkin...|      7|1990|\n",
            "|    1359|          Funny Lady|      7|1975|\n",
            "|    1428|         The Recruit|      7|2003|\n",
            "|    1571|         Poltergeist|      7|1982|\n",
            "|    1659|      Grumpy Old Men|      7|1993|\n",
            "|    1754|     Sixteen Candles|      7|1984|\n",
            "|    1795|      MASH: Season 7|      7|1978|\n",
            "|    1798|       Lethal Weapon|      7|1987|\n",
            "|    1843|Beverly Hills Cop...|      7|1994|\n",
            "+--------+--------------------+-------+----+\n",
            "only showing top 20 rows\n",
            "\n"
          ]
        }
      ]
    },
    {
      "cell_type": "code",
      "source": [
        "# Create a list with the high predicting rating movies for the user \n",
        "final_recommendation_list = model.transform(movie_list_suggestion)\n",
        "final_recommendation_list.orderBy('prediction', ascending=False).show()"
      ],
      "metadata": {
        "colab": {
          "base_uri": "https://localhost:8080/"
        },
        "id": "GLWa3kSfEuZt",
        "outputId": "fe25b11b-7b22-42fa-d106-e365307fbe3e"
      },
      "execution_count": 17,
      "outputs": [
        {
          "output_type": "stream",
          "name": "stdout",
          "text": [
            "+--------+--------------------+-------+----+----------+\n",
            "|movie_id|                name|user_id|year|prediction|\n",
            "+--------+--------------------+-------+----+----------+\n",
            "|    2782|          Braveheart|      7|1995|  4.882445|\n",
            "|    1795|      MASH: Season 7|      7|1978| 4.7661743|\n",
            "|    2743|         The Pianist|      7|2002|  4.750317|\n",
            "|    1220|         Man on Fire|      7|2004|  4.593657|\n",
            "|    2128|                Rudy|      7|1993| 4.4514112|\n",
            "|    3342|The Day of the Ja...|      7|1973| 4.4092593|\n",
            "|     501|Three Days of the...|      7|1975| 4.4032283|\n",
            "|    2209|      On Golden Pond|      7|1981|  4.398661|\n",
            "|    1798|       Lethal Weapon|      7|1987| 4.3963065|\n",
            "|    4356|   Road to Perdition|      7|2002|  4.332597|\n",
            "|    1754|     Sixteen Candles|      7|1984| 4.2955976|\n",
            "|    3684|          Goldfinger|      7|1964| 4.2461386|\n",
            "|     191|    X2: X-Men United|      7|2003| 4.2168818|\n",
            "|     937|              Fallen|      7|1998| 4.2075152|\n",
            "|    1571|         Poltergeist|      7|1982| 4.2010984|\n",
            "|    1972|Gentlemen Prefer ...|      7|1953| 4.1612906|\n",
            "|    2953|          Moonstruck|      7|1987| 4.1459894|\n",
            "|    1102|        Training Day|      7|2001|  4.143171|\n",
            "|    1428|         The Recruit|      7|2003| 4.1259456|\n",
            "|     299|Bridget Jones's D...|      7|2001| 4.1056104|\n",
            "+--------+--------------------+-------+----+----------+\n",
            "only showing top 20 rows\n",
            "\n"
          ]
        }
      ]
    }
  ]
}