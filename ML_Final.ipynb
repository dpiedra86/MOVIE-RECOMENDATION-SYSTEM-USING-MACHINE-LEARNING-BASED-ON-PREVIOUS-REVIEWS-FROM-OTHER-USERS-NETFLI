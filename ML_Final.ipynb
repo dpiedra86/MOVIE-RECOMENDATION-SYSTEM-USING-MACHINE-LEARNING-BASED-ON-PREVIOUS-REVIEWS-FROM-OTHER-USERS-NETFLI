{
  "nbformat": 4,
  "nbformat_minor": 0,
  "metadata": {
    "colab": {
      "name": "Recommendation_System.ipynb",
      "provenance": [],
      "collapsed_sections": []
    },
    "kernelspec": {
      "name": "python3",
      "display_name": "Python 3"
    },
    "language_info": {
      "name": "python"
    }
  },
  "cells": [
    {
      "cell_type": "markdown",
      "source": [
        "Preprocess and Load Data"
      ],
      "metadata": {
        "id": "2CqUq9P1Badr"
      }
    },
    {
      "cell_type": "code",
      "execution_count": 1,
      "metadata": {
        "colab": {
          "base_uri": "https://localhost:8080/"
        },
        "id": "gwr5GU_OVQg5",
        "outputId": "bfbdd3aa-9d32-4ce2-e0c7-326d845ddd80"
      },
      "outputs": [
        {
          "output_type": "stream",
          "name": "stdout",
          "text": [
            "\r0% [Working]\r            \rGet:1 https://cloud.r-project.org/bin/linux/ubuntu bionic-cran40/ InRelease [3,626 B]\n",
            "\r0% [Waiting for headers] [Waiting for headers] [1 InRelease 3,626 B/3,626 B 100\r0% [Waiting for headers] [Waiting for headers] [Waiting for headers] [Waiting f\r0% [1 InRelease gpgv 3,626 B] [Waiting for headers] [Waiting for headers] [Wait\r                                                                               \rIgn:2 https://developer.download.nvidia.com/compute/machine-learning/repos/ubuntu1804/x86_64  InRelease\n",
            "\r0% [1 InRelease gpgv 3,626 B] [Waiting for headers] [Waiting for headers] [Wait\r                                                                               \rHit:3 https://developer.download.nvidia.com/compute/cuda/repos/ubuntu1804/x86_64  InRelease\n",
            "Get:4 http://security.ubuntu.com/ubuntu bionic-security InRelease [88.7 kB]\n",
            "Hit:5 https://developer.download.nvidia.com/compute/machine-learning/repos/ubuntu1804/x86_64  Release\n",
            "Get:6 http://ppa.launchpad.net/c2d4u.team/c2d4u4.0+/ubuntu bionic InRelease [15.9 kB]\n",
            "Hit:7 http://archive.ubuntu.com/ubuntu bionic InRelease\n",
            "Get:8 http://archive.ubuntu.com/ubuntu bionic-updates InRelease [88.7 kB]\n",
            "Hit:9 http://ppa.launchpad.net/cran/libgit2/ubuntu bionic InRelease\n",
            "Get:10 http://archive.ubuntu.com/ubuntu bionic-backports InRelease [74.6 kB]\n",
            "Hit:11 http://ppa.launchpad.net/deadsnakes/ppa/ubuntu bionic InRelease\n",
            "Hit:13 http://ppa.launchpad.net/graphics-drivers/ppa/ubuntu bionic InRelease\n",
            "Get:14 http://ppa.launchpad.net/c2d4u.team/c2d4u4.0+/ubuntu bionic/main Sources [2,099 kB]\n",
            "Get:15 http://security.ubuntu.com/ubuntu bionic-security/restricted amd64 Packages [1,131 kB]\n",
            "Get:16 http://archive.ubuntu.com/ubuntu bionic-updates/main amd64 Packages [3,397 kB]\n",
            "Get:17 http://security.ubuntu.com/ubuntu bionic-security/main amd64 Packages [2,965 kB]\n",
            "Get:18 http://security.ubuntu.com/ubuntu bionic-security/universe amd64 Packages [1,540 kB]\n",
            "Get:19 http://ppa.launchpad.net/c2d4u.team/c2d4u4.0+/ubuntu bionic/main amd64 Packages [1,076 kB]\n",
            "Get:20 http://archive.ubuntu.com/ubuntu bionic-updates/restricted amd64 Packages [1,172 kB]\n",
            "Fetched 13.7 MB in 4s (3,092 kB/s)\n",
            "Reading package lists... Done\n"
          ]
        }
      ],
      "source": [
        "import os\n",
        "# Find the latest version of spark 3.3 from http://www.apache.org/dist/spark/ and enter as the spark version\n",
        "# For example:\n",
        "# spark_version = 'spark-3.3.0'\n",
        "spark_version = 'spark-3.3.0'\n",
        "os.environ['SPARK_VERSION']=spark_version\n",
        "\n",
        "# Install Spark and Java\n",
        "!apt-get update\n",
        "!apt-get install openjdk-11-jdk-headless -qq > /dev/null\n",
        "!wget -q http://www.apache.org/dist/spark/$SPARK_VERSION/$SPARK_VERSION-bin-hadoop3.tgz\n",
        "!tar xf $SPARK_VERSION-bin-hadoop3.tgz\n",
        "!pip install -q findspark\n",
        "\n",
        "# Set Environment Variables\n",
        "import os\n",
        "os.environ[\"JAVA_HOME\"] = \"/usr/lib/jvm/java-11-openjdk-amd64\"\n",
        "os.environ[\"SPARK_HOME\"] = f\"/content/{spark_version}-bin-hadoop3\"\n",
        "\n",
        "# Start a SparkSession\n",
        "import findspark\n",
        "findspark.init()"
      ]
    },
    {
      "cell_type": "code",
      "source": [
        "# Download the Postgres driver that will allow Spark to interact with Postgres.\n",
        "!wget https://jdbc.postgresql.org/download/postgresql-42.2.16.jar"
      ],
      "metadata": {
        "colab": {
          "base_uri": "https://localhost:8080/"
        },
        "id": "p3We17oLVwUl",
        "outputId": "ae23f793-1b47-4ae6-d9a9-124e59423d11"
      },
      "execution_count": 2,
      "outputs": [
        {
          "output_type": "stream",
          "name": "stdout",
          "text": [
            "--2022-09-07 01:43:52--  https://jdbc.postgresql.org/download/postgresql-42.2.16.jar\n",
            "Resolving jdbc.postgresql.org (jdbc.postgresql.org)... 72.32.157.228, 2001:4800:3e1:1::228\n",
            "Connecting to jdbc.postgresql.org (jdbc.postgresql.org)|72.32.157.228|:443... connected.\n",
            "HTTP request sent, awaiting response... 200 OK\n",
            "Length: 1002883 (979K) [application/java-archive]\n",
            "Saving to: ‘postgresql-42.2.16.jar’\n",
            "\n",
            "postgresql-42.2.16. 100%[===================>] 979.38K  6.31MB/s    in 0.2s    \n",
            "\n",
            "2022-09-07 01:43:53 (6.31 MB/s) - ‘postgresql-42.2.16.jar’ saved [1002883/1002883]\n",
            "\n"
          ]
        }
      ]
    },
    {
      "cell_type": "code",
      "source": [
        "from pyspark.sql import SparkSession\n",
        "spark = SparkSession.builder.appName(\"Netflix-Movies\").config(\"spark.driver.extraClassPath\",\"/content/postgresql-42.2.16.jar\").getOrCreate()"
      ],
      "metadata": {
        "id": "vHutGSHhV0My"
      },
      "execution_count": 3,
      "outputs": []
    },
    {
      "cell_type": "code",
      "source": [
        "# Read in data from S3 Buckets\n",
        "from pyspark import SparkFiles\n",
        "url =\"https://luiwarang-bucket.s3.amazonaws.com/Netflix_Dataset_Movie_Rating.csv\"\n",
        "spark.sparkContext.addFile(url)\n",
        "user_data_df = spark.read.csv(SparkFiles.get(\"Netflix_Dataset_Movie_Rating.csv\"), sep=\",\", header=True, inferSchema=True)\n"
      ],
      "metadata": {
        "id": "-wQ0mRuqV4BD"
      },
      "execution_count": 4,
      "outputs": []
    },
    {
      "cell_type": "code",
      "source": [
        "user_data_df.show()"
      ],
      "metadata": {
        "colab": {
          "base_uri": "https://localhost:8080/"
        },
        "id": "O9BOGGKCjbc1",
        "outputId": "24b15cbd-a94f-4ee3-9a01-781039eac976"
      },
      "execution_count": 5,
      "outputs": [
        {
          "output_type": "stream",
          "name": "stdout",
          "text": [
            "+--------+----+---------+-------+------+\n",
            "|movie_id|year|     name|user_id|rating|\n",
            "+--------+----+---------+-------+------+\n",
            "|       3|1997|Character| 712664|     5|\n",
            "|       3|1997|Character|1331154|     4|\n",
            "|       3|1997|Character|2632461|     3|\n",
            "|       3|1997|Character|  44937|     5|\n",
            "|       3|1997|Character| 656399|     4|\n",
            "|       3|1997|Character| 439011|     1|\n",
            "|       3|1997|Character|1644750|     3|\n",
            "|       3|1997|Character|2031561|     4|\n",
            "|       3|1997|Character| 616720|     4|\n",
            "|       3|1997|Character|2467008|     4|\n",
            "|       3|1997|Character| 701730|     2|\n",
            "|       3|1997|Character|1614320|     4|\n",
            "|       3|1997|Character| 115498|     3|\n",
            "|       3|1997|Character| 931626|     2|\n",
            "|       3|1997|Character| 699878|     4|\n",
            "|       3|1997|Character|1694958|     3|\n",
            "|       3|1997|Character|  66414|     5|\n",
            "|       3|1997|Character|2519847|     5|\n",
            "|       3|1997|Character| 948069|     3|\n",
            "|       3|1997|Character|  67315|     4|\n",
            "+--------+----+---------+-------+------+\n",
            "only showing top 20 rows\n",
            "\n"
          ]
        }
      ]
    },
    {
      "cell_type": "code",
      "source": [
        "# List dataframe data types\n",
        "user_data_df.printSchema()"
      ],
      "metadata": {
        "colab": {
          "base_uri": "https://localhost:8080/"
        },
        "id": "wlT0VVzz_5U4",
        "outputId": "17e5d68a-f85c-439c-9309-d6948b3b3045"
      },
      "execution_count": 6,
      "outputs": [
        {
          "output_type": "stream",
          "name": "stdout",
          "text": [
            "root\n",
            " |-- movie_id: integer (nullable = true)\n",
            " |-- year: integer (nullable = true)\n",
            " |-- name: string (nullable = true)\n",
            " |-- user_id: integer (nullable = true)\n",
            " |-- rating: integer (nullable = true)\n",
            "\n"
          ]
        }
      ]
    },
    {
      "cell_type": "code",
      "source": [
        "# Drop null columns\n",
        "user_data_df =user_data_df.dropna()"
      ],
      "metadata": {
        "id": "08TfKQCNAupt"
      },
      "execution_count": 7,
      "outputs": []
    },
    {
      "cell_type": "code",
      "source": [
        "# split into training and testing sets\n",
        "train, test = user_data_df.randomSplit(weights=(0.8, 0.2))"
      ],
      "metadata": {
        "id": "iJB4BGejlSzr"
      },
      "execution_count": 8,
      "outputs": []
    },
    {
      "cell_type": "markdown",
      "source": [
        "Building Recommendation Model using ALS"
      ],
      "metadata": {
        "id": "UebBOucSBk-f"
      }
    },
    {
      "cell_type": "code",
      "source": [
        "# Build the recommendation model using ALS on the training data\n",
        "from pyspark.ml.recommendation import ALS\n",
        "from pyspark.ml.evaluation import RegressionEvaluator\n",
        "\n",
        "als = ALS(maxIter=10, regParam=0.1, rank=8, nonnegative=True, coldStartStrategy=\"drop\",\\\n",
        "          userCol='user_id', itemCol='movie_id', ratingCol='rating')\n",
        "model = als.fit(train)"
      ],
      "metadata": {
        "id": "WXzw-RpimCyL"
      },
      "execution_count": 9,
      "outputs": []
    },
    {
      "cell_type": "markdown",
      "source": [
        "Making Predictions with ALS Model"
      ],
      "metadata": {
        "id": "Wp_S2L8TCQoX"
      }
    },
    {
      "cell_type": "code",
      "source": [
        "# Evaluate the model by computing the RMSE on the test data\n",
        "predictions = model.transform(test)\n",
        "predictions"
      ],
      "metadata": {
        "colab": {
          "base_uri": "https://localhost:8080/"
        },
        "id": "5U4NAhBcoKBA",
        "outputId": "eb94c357-894e-4e73-a4e7-0392578ffe7d"
      },
      "execution_count": 10,
      "outputs": [
        {
          "output_type": "execute_result",
          "data": {
            "text/plain": [
              "DataFrame[movie_id: int, year: int, name: string, user_id: int, rating: int, prediction: float]"
            ]
          },
          "metadata": {},
          "execution_count": 10
        }
      ]
    },
    {
      "cell_type": "code",
      "source": [
        "# Preview predictions table sorted by user id and rating\n",
        "predictions.sort(\"user_id\", \"rating\").show()"
      ],
      "metadata": {
        "colab": {
          "base_uri": "https://localhost:8080/"
        },
        "id": "UrUcEIvYCmal",
        "outputId": "6622fa3a-537c-40d5-ef34-0b53cd4525ff"
      },
      "execution_count": 11,
      "outputs": [
        {
          "output_type": "stream",
          "name": "stdout",
          "text": [
            "+--------+----+--------------------+-------+------+----------+\n",
            "|movie_id|year|                name|user_id|rating|prediction|\n",
            "+--------+----+--------------------+-------+------+----------+\n",
            "|    1843|1994|Beverly Hills Cop...|      6|     2| 3.0680099|\n",
            "|    2000|1994|Four Weddings and...|      6|     3| 2.9182014|\n",
            "|     723|1991|           Curly Sue|      6|     3| 2.7456238|\n",
            "|    3756|2002|       About Schmidt|      6|     3|  2.397502|\n",
            "|    3198|1991|   The Addams Family|      6|     3| 2.9830575|\n",
            "|    1971|1995|Under Siege 2: Da...|      6|     3|  3.074465|\n",
            "|    3925|2003|The Matrix: Reloaded|      6|     3| 3.3818247|\n",
            "|     494|1983|Monty Python's Th...|      6|     3|  3.285951|\n",
            "|    3684|1964|          Goldfinger|      6|     3|  3.371311|\n",
            "|    2112|2003|            Identity|      6|     3| 3.2584069|\n",
            "|    4227|1997|      The Full Monty|      6|     3| 2.9210052|\n",
            "|    2340|1990|Joe Versus the Vo...|      6|     3| 2.7086494|\n",
            "|    2456|1964|A Fistful of Dollars|      6|     4| 3.4905014|\n",
            "|     564|1990|          Predator 2|      6|     4| 3.0718071|\n",
            "|    3893|1996|The People vs. La...|      6|     4| 2.9814444|\n",
            "|     457|2004|   Kill Bill: Vol. 2|      6|     5| 3.2513018|\n",
            "|    2452|2001|Lord of the Rings...|      6|     5| 3.8063202|\n",
            "|    3290|1974|       The Godfather|      6|     5|  3.673096|\n",
            "|    4345|2002|Bowling for Colum...|      7|     1|  4.036262|\n",
            "|    3466|2001|            Spy Kids|      7|     2| 3.4765747|\n",
            "+--------+----+--------------------+-------+------+----------+\n",
            "only showing top 20 rows\n",
            "\n"
          ]
        }
      ]
    },
    {
      "cell_type": "markdown",
      "source": [
        "Evaluate the Predictions"
      ],
      "metadata": {
        "id": "3CcLAITfCrZf"
      }
    },
    {
      "cell_type": "code",
      "source": [
        "# using RMSE to evaluate the model\n",
        "evaluator = RegressionEvaluator(metricName='rmse', predictionCol='prediction', labelCol='rating')\n",
        "rmse = evaluator.evaluate(predictions)\n",
        "print('RMSE: %.4f' % rmse)"
      ],
      "metadata": {
        "colab": {
          "base_uri": "https://localhost:8080/"
        },
        "id": "6yxCLMnOCtcI",
        "outputId": "6b103da3-2544-4ec5-d9e7-d99d01fae4c9"
      },
      "execution_count": 12,
      "outputs": [
        {
          "output_type": "stream",
          "name": "stdout",
          "text": [
            "RMSE: 0.8634\n"
          ]
        }
      ]
    },
    {
      "cell_type": "markdown",
      "source": [
        "Making Movie Recommendations to users"
      ],
      "metadata": {
        "id": "zQ8Uy9LbC2gX"
      }
    },
    {
      "cell_type": "code",
      "source": [
        "# Make recommendations for all users\n",
        "user_recs = model.recommendForAllUsers(5)"
      ],
      "metadata": {
        "id": "QQ_124rAPF0M"
      },
      "execution_count": 13,
      "outputs": []
    },
    {
      "cell_type": "code",
      "source": [
        "# Print recommendations table schema\n",
        "user_recs.printSchema()\n",
        "type(user_recs)"
      ],
      "metadata": {
        "colab": {
          "base_uri": "https://localhost:8080/"
        },
        "id": "XXjcO-LgYAKt",
        "outputId": "0fa4bbbd-962d-443c-f1bf-59a8aa9d0331"
      },
      "execution_count": 14,
      "outputs": [
        {
          "output_type": "stream",
          "name": "stdout",
          "text": [
            "root\n",
            " |-- user_id: integer (nullable = false)\n",
            " |-- recommendations: array (nullable = true)\n",
            " |    |-- element: struct (containsNull = true)\n",
            " |    |    |-- movie_id: integer (nullable = true)\n",
            " |    |    |-- rating: float (nullable = true)\n",
            "\n"
          ]
        },
        {
          "output_type": "execute_result",
          "data": {
            "text/plain": [
              "pyspark.sql.dataframe.DataFrame"
            ]
          },
          "metadata": {},
          "execution_count": 14
        }
      ]
    },
    {
      "cell_type": "code",
      "source": [
        "# Display recommendations for all users\n",
        "user_recs.show(10, False)"
      ],
      "metadata": {
        "colab": {
          "base_uri": "https://localhost:8080/"
        },
        "id": "q8Gmypa7YEv8",
        "outputId": "1d1ba1cb-3bea-45e5-e2b7-c8b405b2566d"
      },
      "execution_count": 15,
      "outputs": [
        {
          "output_type": "stream",
          "name": "stdout",
          "text": [
            "+-------+----------------------------------------------------------------------------------------------+\n",
            "|user_id|recommendations                                                                               |\n",
            "+-------+----------------------------------------------------------------------------------------------+\n",
            "|6      |[{3456, 3.968379}, {2568, 3.8582587}, {2162, 3.856292}, {2782, 3.820723}, {2452, 3.8063202}]  |\n",
            "|169    |[{3456, 4.657238}, {4427, 4.493266}, {1476, 4.465171}, {3962, 4.4425826}, {2162, 4.4371853}]  |\n",
            "|183    |[{3456, 4.54572}, {4306, 4.437381}, {4427, 4.4347696}, {32, 4.4334173}, {1476, 4.427165}]     |\n",
            "|268    |[{1947, 4.934754}, {3456, 4.912211}, {1256, 4.863822}, {2942, 4.8232155}, {3962, 4.810137}]   |\n",
            "|283    |[{3456, 4.423377}, {1256, 4.3506007}, {1947, 4.3439503}, {1495, 4.2976503}, {2942, 4.2963247}]|\n",
            "|291    |[{1947, 4.720321}, {3456, 4.578703}, {2548, 4.5640397}, {1256, 4.546108}, {2942, 4.5033293}]  |\n",
            "|296    |[{3023, 4.149002}, {2300, 4.061247}, {1222, 4.0538597}, {2440, 4.0241413}, {76, 4.010699}]    |\n",
            "|305    |[{577, 4.789992}, {463, 4.787693}, {504, 4.781998}, {1513, 4.7771077}, {2102, 4.7739263}]     |\n",
            "|383    |[{3456, 4.242565}, {3444, 4.109992}, {2102, 4.075057}, {2782, 4.0444736}, {2452, 4.039822}]   |\n",
            "|437    |[{2162, 3.178155}, {2568, 3.168412}, {2782, 3.1599312}, {3456, 3.1546779}, {621, 3.0903172}]  |\n",
            "+-------+----------------------------------------------------------------------------------------------+\n",
            "only showing top 10 rows\n",
            "\n"
          ]
        }
      ]
    },
    {
      "cell_type": "code",
      "source": [
        "# Explode user recs dataframe\n",
        "from pyspark.sql.functions import explode, col\n",
        "nrecommendations = user_recs\\\n",
        "    .withColumn(\"rec_exp\", explode(\"recommendations\"))\\\n",
        "    .select('user_id', col(\"rec_exp.movie_id\"), col(\"rec_exp.rating\"))\n",
        "nrecommendations.limit(10).show()"
      ],
      "metadata": {
        "colab": {
          "base_uri": "https://localhost:8080/"
        },
        "id": "yHxWnWt81-ff",
        "outputId": "12ed730c-72f1-42d4-b834-3684bb75e405"
      },
      "execution_count": 16,
      "outputs": [
        {
          "output_type": "stream",
          "name": "stdout",
          "text": [
            "+-------+--------+---------+\n",
            "|user_id|movie_id|   rating|\n",
            "+-------+--------+---------+\n",
            "|      6|    3456| 3.968379|\n",
            "|      6|    2568|3.8582587|\n",
            "|      6|    2162| 3.856292|\n",
            "|      6|    2782| 3.820723|\n",
            "|      6|    2452|3.8063202|\n",
            "|    169|    3456| 4.657238|\n",
            "|    169|    4427| 4.493266|\n",
            "|    169|    1476| 4.465171|\n",
            "|    169|    3962|4.4425826|\n",
            "|    169|    2162|4.4371853|\n",
            "+-------+--------+---------+\n",
            "\n"
          ]
        }
      ]
    },
    {
      "cell_type": "code",
      "source": [
        "# Drop user_id and rating from original dataset\n",
        "user_data_df_drop = user_data_df.drop(*(\"user_id\", \"rating\"))\n",
        "user_data_df_drop = user_data_df_drop.dropDuplicates([\"movie_id\"])\n",
        "user_data_df_drop.show()"
      ],
      "metadata": {
        "colab": {
          "base_uri": "https://localhost:8080/"
        },
        "id": "OQ7-KhQU_L4X",
        "outputId": "bf4f59af-9206-4c1c-97a6-a28156f20bb1"
      },
      "execution_count": 17,
      "outputs": [
        {
          "output_type": "stream",
          "name": "stdout",
          "text": [
            "+--------+----+--------------------+\n",
            "|movie_id|year|                name|\n",
            "+--------+----+--------------------+\n",
            "|       3|1997|           Character|\n",
            "|       8|2004|What the #$*! Do ...|\n",
            "|      16|1996|           Screamers|\n",
            "|      17|2005|           7 Seconds|\n",
            "|      18|1994|    Immortal Beloved|\n",
            "|      26|2004|     Never Die Alone|\n",
            "|      28|2002|     Lilo and Stitch|\n",
            "|      30|2003|Something's Gotta...|\n",
            "|      32|2004|ABC Primetime: Me...|\n",
            "|      33|2000|Aqua Teen Hunger ...|\n",
            "|      44|1996|      Spitfire Grill|\n",
            "|      45|1999|     The Love Letter|\n",
            "|      46|1964|Rudolph the Red-N...|\n",
            "|      47|1952|The Bad and the B...|\n",
            "|      48|2001|      Justice League|\n",
            "|      52|2002|The Weather Under...|\n",
            "|      55|1995|                Jade|\n",
            "|      56|2004|           Carandiru|\n",
            "|      57|1995|         Richard III|\n",
            "|      58|1996|         Dragonheart|\n",
            "+--------+----+--------------------+\n",
            "only showing top 20 rows\n",
            "\n"
          ]
        }
      ]
    },
    {
      "cell_type": "code",
      "source": [
        "# Get movie name from original dataset and join with recommendations table for one user\n",
        "nrecommendations.join(user_data_df_drop, on='movie_id',how=\"left\").filter('user_id = 6').show()"
      ],
      "metadata": {
        "colab": {
          "base_uri": "https://localhost:8080/"
        },
        "id": "S7mWhr6C-PGe",
        "outputId": "30435836-bd95-4a7f-ffd3-523ea8a19bbe"
      },
      "execution_count": 18,
      "outputs": [
        {
          "output_type": "stream",
          "name": "stdout",
          "text": [
            "+--------+-------+---------+----+--------------------+\n",
            "|movie_id|user_id|   rating|year|                name|\n",
            "+--------+-------+---------+----+--------------------+\n",
            "|    3456|      6| 3.968379|2004|      Lost: Season 1|\n",
            "|    2782|      6| 3.820723|1995|          Braveheart|\n",
            "|    2568|      6|3.8582587|2004|Stargate SG-1: Se...|\n",
            "|    2452|      6|3.8063202|2001|Lord of the Rings...|\n",
            "|    2162|      6| 3.856292|2000|       CSI: Season 1|\n",
            "+--------+-------+---------+----+--------------------+\n",
            "\n"
          ]
        }
      ]
    },
    {
      "cell_type": "code",
      "source": [
        "# Get movie name from original dataset and join with recommendations table for all users\n",
        "final_recs = nrecommendations.join(user_data_df_drop, on='movie_id',how=\"left\")"
      ],
      "metadata": {
        "id": "zo9JrWUz_zb-"
      },
      "execution_count": 19,
      "outputs": []
    },
    {
      "cell_type": "code",
      "source": [
        "# Convert datfarame to pandas\n",
        "from google.colab import files\n",
        "final_recs_pan = final_recs.toPandas()"
      ],
      "metadata": {
        "id": "nC82KdJxLKMz"
      },
      "execution_count": 20,
      "outputs": []
    },
    {
      "cell_type": "code",
      "source": [
        "# Convert datfarame to csv\n",
        "final_recs_pan.to_csv(\"final_recs_pan.csv\")"
      ],
      "metadata": {
        "id": "o-xz8E9nrRTY"
      },
      "execution_count": 21,
      "outputs": []
    },
    {
      "cell_type": "code",
      "source": [
        "# Export csv file to local pc\n",
        "files.download('final_recs_pan.csv')"
      ],
      "metadata": {
        "colab": {
          "base_uri": "https://localhost:8080/",
          "height": 17
        },
        "id": "PepWUPMJPATD",
        "outputId": "41646e1d-936d-448e-fec4-48470fe591ea"
      },
      "execution_count": 22,
      "outputs": [
        {
          "output_type": "display_data",
          "data": {
            "text/plain": [
              "<IPython.core.display.Javascript object>"
            ],
            "application/javascript": [
              "\n",
              "    async function download(id, filename, size) {\n",
              "      if (!google.colab.kernel.accessAllowed) {\n",
              "        return;\n",
              "      }\n",
              "      const div = document.createElement('div');\n",
              "      const label = document.createElement('label');\n",
              "      label.textContent = `Downloading \"${filename}\": `;\n",
              "      div.appendChild(label);\n",
              "      const progress = document.createElement('progress');\n",
              "      progress.max = size;\n",
              "      div.appendChild(progress);\n",
              "      document.body.appendChild(div);\n",
              "\n",
              "      const buffers = [];\n",
              "      let downloaded = 0;\n",
              "\n",
              "      const channel = await google.colab.kernel.comms.open(id);\n",
              "      // Send a message to notify the kernel that we're ready.\n",
              "      channel.send({})\n",
              "\n",
              "      for await (const message of channel.messages) {\n",
              "        // Send a message to notify the kernel that we're ready.\n",
              "        channel.send({})\n",
              "        if (message.buffers) {\n",
              "          for (const buffer of message.buffers) {\n",
              "            buffers.push(buffer);\n",
              "            downloaded += buffer.byteLength;\n",
              "            progress.value = downloaded;\n",
              "          }\n",
              "        }\n",
              "      }\n",
              "      const blob = new Blob(buffers, {type: 'application/binary'});\n",
              "      const a = document.createElement('a');\n",
              "      a.href = window.URL.createObjectURL(blob);\n",
              "      a.download = filename;\n",
              "      div.appendChild(a);\n",
              "      a.click();\n",
              "      div.remove();\n",
              "    }\n",
              "  "
            ]
          },
          "metadata": {}
        },
        {
          "output_type": "display_data",
          "data": {
            "text/plain": [
              "<IPython.core.display.Javascript object>"
            ],
            "application/javascript": [
              "download(\"download_38b19053-df92-457c-857f-e74400decf0c\", \"final_recs_pan.csv\", 40599620)"
            ]
          },
          "metadata": {}
        }
      ]
    }
  ]
}