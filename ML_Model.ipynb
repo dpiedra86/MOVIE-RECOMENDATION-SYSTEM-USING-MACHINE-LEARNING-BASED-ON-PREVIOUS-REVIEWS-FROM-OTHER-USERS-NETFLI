{
  "cells": [
    {
      "cell_type": "markdown",
      "metadata": {
        "id": "leOL3ddslSC8"
      },
      "source": [
        "Preprocess and Load Data"
      ]
    },
    {
      "cell_type": "code",
      "execution_count": 1,
      "metadata": {
        "colab": {
          "base_uri": "https://localhost:8080/"
        },
        "id": "a4ObRZzqlW3d",
        "outputId": "c43a3527-3369-4887-90b8-f8ac9a9a9bf5"
      },
      "outputs": [
        {
          "output_type": "stream",
          "name": "stdout",
          "text": [
            "\r0% [Working]\r            \rGet:1 https://cloud.r-project.org/bin/linux/ubuntu bionic-cran40/ InRelease [3,626 B]\n",
            "\r0% [Connecting to archive.ubuntu.com (185.125.190.36)] [Waiting for headers] [1\r0% [Connecting to archive.ubuntu.com (185.125.190.36)] [Waiting for headers] [W\r0% [1 InRelease gpgv 3,626 B] [Connecting to archive.ubuntu.com (185.125.190.36\r                                                                               \rIgn:2 https://developer.download.nvidia.com/compute/machine-learning/repos/ubuntu1804/x86_64  InRelease\n",
            "\r0% [1 InRelease gpgv 3,626 B] [Connecting to archive.ubuntu.com (185.125.190.36\r                                                                               \rHit:3 https://developer.download.nvidia.com/compute/cuda/repos/ubuntu1804/x86_64  InRelease\n",
            "\r0% [1 InRelease gpgv 3,626 B] [Connecting to archive.ubuntu.com (185.125.190.36\r                                                                               \rGet:4 http://security.ubuntu.com/ubuntu bionic-security InRelease [88.7 kB]\n",
            "Hit:5 https://developer.download.nvidia.com/compute/machine-learning/repos/ubuntu1804/x86_64  Release\n",
            "Hit:6 http://archive.ubuntu.com/ubuntu bionic InRelease\n",
            "Get:7 http://ppa.launchpad.net/c2d4u.team/c2d4u4.0+/ubuntu bionic InRelease [15.9 kB]\n",
            "Get:8 http://archive.ubuntu.com/ubuntu bionic-updates InRelease [88.7 kB]\n",
            "Hit:10 http://ppa.launchpad.net/cran/libgit2/ubuntu bionic InRelease\n",
            "Get:11 http://archive.ubuntu.com/ubuntu bionic-backports InRelease [74.6 kB]\n",
            "Hit:12 http://ppa.launchpad.net/deadsnakes/ppa/ubuntu bionic InRelease\n",
            "Get:13 http://security.ubuntu.com/ubuntu bionic-security/universe amd64 Packages [1,540 kB]\n",
            "Hit:14 http://ppa.launchpad.net/graphics-drivers/ppa/ubuntu bionic InRelease\n",
            "Get:15 http://security.ubuntu.com/ubuntu bionic-security/main amd64 Packages [2,959 kB]\n",
            "Get:16 http://security.ubuntu.com/ubuntu bionic-security/restricted amd64 Packages [1,121 kB]\n",
            "Get:17 http://archive.ubuntu.com/ubuntu bionic-updates/restricted amd64 Packages [1,162 kB]\n",
            "Get:18 http://ppa.launchpad.net/c2d4u.team/c2d4u4.0+/ubuntu bionic/main Sources [2,099 kB]\n",
            "Get:19 http://archive.ubuntu.com/ubuntu bionic-updates/main amd64 Packages [3,390 kB]\n",
            "Get:20 http://ppa.launchpad.net/c2d4u.team/c2d4u4.0+/ubuntu bionic/main amd64 Packages [1,076 kB]\n",
            "Fetched 13.6 MB in 4s (3,750 kB/s)\n",
            "Reading package lists... Done\n"
          ]
        }
      ],
      "source": [
        "import os\n",
        "# Find the latest version of spark 3.3 from http://www.apache.org/dist/spark/ and enter as the spark version\n",
        "# For example:\n",
        "# spark_version = 'spark-3.3.0'\n",
        "spark_version = 'spark-3.3.0'\n",
        "os.environ['SPARK_VERSION']=spark_version\n",
        "\n",
        "# Install Spark and Java\n",
        "!apt-get update\n",
        "!apt-get install openjdk-11-jdk-headless -qq > /dev/null\n",
        "!wget -q http://www.apache.org/dist/spark/$SPARK_VERSION/$SPARK_VERSION-bin-hadoop3.tgz\n",
        "!tar xf $SPARK_VERSION-bin-hadoop3.tgz\n",
        "!pip install -q findspark\n",
        "\n",
        "# Set Environment Variables\n",
        "import os\n",
        "os.environ[\"JAVA_HOME\"] = \"/usr/lib/jvm/java-11-openjdk-amd64\"\n",
        "os.environ[\"SPARK_HOME\"] = f\"/content/{spark_version}-bin-hadoop3\"\n",
        "\n",
        "# Start a SparkSession\n",
        "import findspark\n",
        "findspark.init()"
      ]
    },
    {
      "cell_type": "code",
      "execution_count": 2,
      "metadata": {
        "colab": {
          "base_uri": "https://localhost:8080/"
        },
        "id": "V55-iI91leOQ",
        "outputId": "87635bbd-08bf-4f2c-ebd6-099279326468"
      },
      "outputs": [
        {
          "output_type": "stream",
          "name": "stdout",
          "text": [
            "--2022-09-04 21:25:07--  https://jdbc.postgresql.org/download/postgresql-42.2.16.jar\n",
            "Resolving jdbc.postgresql.org (jdbc.postgresql.org)... 72.32.157.228, 2001:4800:3e1:1::228\n",
            "Connecting to jdbc.postgresql.org (jdbc.postgresql.org)|72.32.157.228|:443... connected.\n",
            "HTTP request sent, awaiting response... 200 OK\n",
            "Length: 1002883 (979K) [application/java-archive]\n",
            "Saving to: ‘postgresql-42.2.16.jar’\n",
            "\n",
            "postgresql-42.2.16. 100%[===================>] 979.38K  4.18MB/s    in 0.2s    \n",
            "\n",
            "2022-09-04 21:25:07 (4.18 MB/s) - ‘postgresql-42.2.16.jar’ saved [1002883/1002883]\n",
            "\n"
          ]
        }
      ],
      "source": [
        "# Download the Postgres driver that will allow Spark to interact with Postgres.\n",
        "!wget https://jdbc.postgresql.org/download/postgresql-42.2.16.jar"
      ]
    },
    {
      "cell_type": "code",
      "execution_count": 3,
      "metadata": {
        "id": "7QI942H0lhUj"
      },
      "outputs": [],
      "source": [
        "from pyspark.sql import SparkSession\n",
        "spark = SparkSession.builder.appName(\"Netflix-Movies\").config(\"spark.driver.extraClassPath\",\"/content/postgresql-42.2.16.jar\").getOrCreate()"
      ]
    },
    {
      "cell_type": "code",
      "execution_count": 4,
      "metadata": {
        "id": "KuPp2SKPlmJf"
      },
      "outputs": [],
      "source": [
        "# Read in data from S3 Buckets\n",
        "from pyspark import SparkFiles\n",
        "url =\"https://luiwarang-bucket.s3.amazonaws.com/Netflix_Dataset_Movie_Rating.csv\"\n",
        "spark.sparkContext.addFile(url)\n",
        "user_data_df = spark.read.csv(SparkFiles.get(\"Netflix_Dataset_Movie_Rating.csv\"), sep=\",\", header=True, inferSchema=True)"
      ]
    },
    {
      "cell_type": "code",
      "execution_count": 5,
      "metadata": {
        "colab": {
          "base_uri": "https://localhost:8080/"
        },
        "id": "G8K_sARdlrJh",
        "outputId": "8aac7154-23b3-4660-8e38-79b8a5f2ba0f"
      },
      "outputs": [
        {
          "output_type": "stream",
          "name": "stdout",
          "text": [
            "+--------+----+---------+-------+------+\n",
            "|movie_id|year|     name|user_id|rating|\n",
            "+--------+----+---------+-------+------+\n",
            "|       3|1997|Character| 712664|     5|\n",
            "|       3|1997|Character|1331154|     4|\n",
            "|       3|1997|Character|2632461|     3|\n",
            "|       3|1997|Character|  44937|     5|\n",
            "|       3|1997|Character| 656399|     4|\n",
            "|       3|1997|Character| 439011|     1|\n",
            "|       3|1997|Character|1644750|     3|\n",
            "|       3|1997|Character|2031561|     4|\n",
            "|       3|1997|Character| 616720|     4|\n",
            "|       3|1997|Character|2467008|     4|\n",
            "|       3|1997|Character| 701730|     2|\n",
            "|       3|1997|Character|1614320|     4|\n",
            "|       3|1997|Character| 115498|     3|\n",
            "|       3|1997|Character| 931626|     2|\n",
            "|       3|1997|Character| 699878|     4|\n",
            "|       3|1997|Character|1694958|     3|\n",
            "|       3|1997|Character|  66414|     5|\n",
            "|       3|1997|Character|2519847|     5|\n",
            "|       3|1997|Character| 948069|     3|\n",
            "|       3|1997|Character|  67315|     4|\n",
            "+--------+----+---------+-------+------+\n",
            "only showing top 20 rows\n",
            "\n"
          ]
        }
      ],
      "source": [
        "user_data_df.show()"
      ]
    },
    {
      "cell_type": "code",
      "execution_count": 6,
      "metadata": {
        "colab": {
          "base_uri": "https://localhost:8080/"
        },
        "id": "-Snk-ImbltEj",
        "outputId": "9ed0f183-6a3d-4011-9228-1809fc0357e2"
      },
      "outputs": [
        {
          "output_type": "stream",
          "name": "stdout",
          "text": [
            "root\n",
            " |-- movie_id: integer (nullable = true)\n",
            " |-- year: integer (nullable = true)\n",
            " |-- name: string (nullable = true)\n",
            " |-- user_id: integer (nullable = true)\n",
            " |-- rating: integer (nullable = true)\n",
            "\n"
          ]
        }
      ],
      "source": [
        "# List dataframe data types\n",
        "user_data_df.printSchema()"
      ]
    },
    {
      "cell_type": "code",
      "execution_count": 7,
      "metadata": {
        "id": "c4OIa287lvHd"
      },
      "outputs": [],
      "source": [
        "# Drop null columns\n",
        "user_data_df =user_data_df.dropna()"
      ]
    },
    {
      "cell_type": "code",
      "execution_count": 8,
      "metadata": {
        "id": "v-bacnZIlxFZ"
      },
      "outputs": [],
      "source": [
        "# split into training and testing sets\n",
        "train, test = user_data_df.randomSplit(weights=(0.8, 0.2))"
      ]
    },
    {
      "cell_type": "markdown",
      "metadata": {
        "id": "nhK64iJ4ly0G"
      },
      "source": [
        "Building Recommendation Model using ALS"
      ]
    },
    {
      "cell_type": "code",
      "execution_count": 9,
      "metadata": {
        "id": "LZZesHkrl1KP"
      },
      "outputs": [],
      "source": [
        "# Build the recommendation model using ALS on the training data\n",
        "from pyspark.ml.recommendation import ALS\n",
        "from pyspark.ml.evaluation import RegressionEvaluator\n",
        "\n",
        "als = ALS(maxIter=10, regParam=0.1, rank=8, nonnegative=True, coldStartStrategy=\"drop\",\\\n",
        "          userCol='user_id', itemCol='movie_id', ratingCol='rating')\n",
        "model = als.fit(train)"
      ]
    },
    {
      "cell_type": "markdown",
      "metadata": {
        "id": "W7xuJvN8l4um"
      },
      "source": [
        "Making Predictions with ALS Model"
      ]
    },
    {
      "cell_type": "code",
      "execution_count": 10,
      "metadata": {
        "colab": {
          "base_uri": "https://localhost:8080/"
        },
        "id": "3mnhoTnAl5iz",
        "outputId": "13dc432b-c1df-4e06-bfa8-36249eb2f939"
      },
      "outputs": [
        {
          "output_type": "execute_result",
          "data": {
            "text/plain": [
              "DataFrame[movie_id: int, year: int, name: string, user_id: int, rating: int, prediction: float]"
            ]
          },
          "metadata": {},
          "execution_count": 10
        }
      ],
      "source": [
        "# Evaluate the model by computing the RMSE on the test data\n",
        "predictions = model.transform(test)\n",
        "predictions"
      ]
    },
    {
      "cell_type": "code",
      "execution_count": 11,
      "metadata": {
        "colab": {
          "base_uri": "https://localhost:8080/"
        },
        "id": "UDHW-je2l9RG",
        "outputId": "0ab8dac7-30ea-4986-a8af-121e09d5ad12"
      },
      "outputs": [
        {
          "output_type": "stream",
          "name": "stdout",
          "text": [
            "+--------+----+--------------------+-------+------+----------+\n",
            "|movie_id|year|                name|user_id|rating|prediction|\n",
            "+--------+----+--------------------+-------+------+----------+\n",
            "|    1307|2003|            S.W.A.T.|      6|     1| 3.1887624|\n",
            "|    1476|2004|Six Feet Under: S...|      6|     1| 3.7326908|\n",
            "|    1144|1991|Fried Green Tomatoes|      6|     2| 3.3537374|\n",
            "|    1145|2001| The Wedding Planner|      6|     3| 2.8061523|\n",
            "|    4393|1994|The Mask: Special...|      6|     3| 3.1967182|\n",
            "|    2340|1990|Joe Versus the Vo...|      6|     3| 2.6943793|\n",
            "|    3905|2001|          The Others|      6|     3| 3.2622676|\n",
            "|    3153|1965|      Doctor Zhivago|      6|     3| 3.3914022|\n",
            "|    1971|1995|Under Siege 2: Da...|      6|     3|   3.04686|\n",
            "|    2200|2002|   Collateral Damage|      6|     3|  2.889112|\n",
            "|    2981|2000|Saturday Night Li...|      6|     3| 3.4268308|\n",
            "|    3538|1988|             Beaches|      6|     3| 3.1719625|\n",
            "|    4100|2000|            Dinosaur|      6|     3| 3.2441711|\n",
            "|    3684|1964|          Goldfinger|      6|     3| 3.4261088|\n",
            "|    1659|1993|      Grumpy Old Men|      6|     3| 3.3448067|\n",
            "|    3756|2002|       About Schmidt|      6|     3| 2.4940248|\n",
            "|     872|1954|       Seven Samurai|      6|     3| 3.3041468|\n",
            "|     528|2005|The Hitchhiker's ...|      6|     4|  2.641601|\n",
            "|    4266|2004|The Passion of th...|      6|     4| 3.4720726|\n",
            "|    2953|1987|          Moonstruck|      6|     4| 2.9799354|\n",
            "+--------+----+--------------------+-------+------+----------+\n",
            "only showing top 20 rows\n",
            "\n"
          ]
        }
      ],
      "source": [
        "predictions.sort(\"user_id\", \"rating\").show()"
      ]
    },
    {
      "cell_type": "markdown",
      "metadata": {
        "id": "20NFZyjfmFbj"
      },
      "source": [
        "Evaluate the Predictions"
      ]
    },
    {
      "cell_type": "code",
      "execution_count": 12,
      "metadata": {
        "colab": {
          "base_uri": "https://localhost:8080/"
        },
        "id": "To6OoT4wmGSu",
        "outputId": "dff29862-b293-4826-e1f8-f2054b232308"
      },
      "outputs": [
        {
          "output_type": "stream",
          "name": "stdout",
          "text": [
            "RMSE: 0.8629\n"
          ]
        }
      ],
      "source": [
        "# using RMSE to evaluate the model\n",
        "evaluator = RegressionEvaluator(metricName='rmse', predictionCol='prediction', labelCol='rating')\n",
        "rmse = evaluator.evaluate(predictions)\n",
        "print('RMSE: %.4f' % rmse)"
      ]
    },
    {
      "cell_type": "markdown",
      "metadata": {
        "id": "p2AklQQkmLCf"
      },
      "source": [
        "Making Movie Recommendations to users"
      ]
    },
    {
      "cell_type": "code",
      "execution_count": 13,
      "metadata": {
        "id": "6J3N3IaomIiK"
      },
      "outputs": [],
      "source": [
        "#Recommend top 5 movies for all users\n",
        "user_recs = model.recommendForAllUsers(3)"
      ]
    },
    {
      "cell_type": "code",
      "execution_count": 14,
      "metadata": {
        "colab": {
          "base_uri": "https://localhost:8080/"
        },
        "id": "4BEI3gXKmRFJ",
        "outputId": "fd504ec8-fb6b-44a6-9337-0a76d4b3e1bd"
      },
      "outputs": [
        {
          "output_type": "stream",
          "name": "stdout",
          "text": [
            "root\n",
            " |-- user_id: integer (nullable = false)\n",
            " |-- recommendations: array (nullable = true)\n",
            " |    |-- element: struct (containsNull = true)\n",
            " |    |    |-- movie_id: integer (nullable = true)\n",
            " |    |    |-- rating: float (nullable = true)\n",
            "\n"
          ]
        },
        {
          "output_type": "execute_result",
          "data": {
            "text/plain": [
              "pyspark.sql.dataframe.DataFrame"
            ]
          },
          "metadata": {},
          "execution_count": 14
        }
      ],
      "source": [
        "user_recs.printSchema()\n",
        "type(user_recs)"
      ]
    },
    {
      "cell_type": "code",
      "execution_count": 15,
      "metadata": {
        "colab": {
          "base_uri": "https://localhost:8080/"
        },
        "id": "gxq5ZDaBmTNj",
        "outputId": "cf6563d5-9c54-4cdf-9106-91efa9096785"
      },
      "outputs": [
        {
          "output_type": "stream",
          "name": "stdout",
          "text": [
            "+-------+--------------------------------------------------------+\n",
            "|user_id|recommendations                                         |\n",
            "+-------+--------------------------------------------------------+\n",
            "|6      |[{3456, 4.088912}, {2162, 3.954937}, {2568, 3.9330206}] |\n",
            "|169    |[{3456, 4.681539}, {2162, 4.519024}, {4427, 4.511673}]  |\n",
            "|183    |[{3456, 4.7231307}, {2162, 4.6299386}, {4427, 4.576907}]|\n",
            "|268    |[{3456, 5.065378}, {2162, 4.9719124}, {2568, 4.9236784}]|\n",
            "|283    |[{3456, 4.5059}, {1947, 4.350579}, {1256, 4.3294926}]   |\n",
            "|291    |[{1947, 4.5985975}, {3456, 4.5451136}, {1256, 4.527107}]|\n",
            "|296    |[{3023, 4.2063465}, {774, 4.129475}, {4427, 3.9741852}] |\n",
            "|305    |[{2102, 4.8556976}, {68, 4.8315825}, {316, 4.8314896}]  |\n",
            "|383    |[{3456, 4.2607512}, {3444, 4.1362333}, {2102, 4.101471}]|\n",
            "|437    |[{2568, 3.3530953}, {1441, 3.2872744}, {2162, 3.284876}]|\n",
            "+-------+--------------------------------------------------------+\n",
            "only showing top 10 rows\n",
            "\n"
          ]
        }
      ],
      "source": [
        "user_recs.show(10, False)\n",
        "#user_recs_tab = user_recs.select(\"user_id\", \"recommendations.movie_id\",\"recommendations.rating\")\n",
        "#user_recs_tab.show()"
      ]
    },
    {
      "cell_type": "code",
      "execution_count": 16,
      "metadata": {
        "colab": {
          "base_uri": "https://localhost:8080/"
        },
        "id": "jAF8dTTimu_J",
        "outputId": "9cbd3d5a-224c-41f3-c611-7618b7f642a0"
      },
      "outputs": [
        {
          "output_type": "stream",
          "name": "stdout",
          "text": [
            "+-------+--------+---------+\n",
            "|user_id|movie_id|   rating|\n",
            "+-------+--------+---------+\n",
            "|      6|    3456| 4.088912|\n",
            "|      6|    2162| 3.954937|\n",
            "|      6|    2568|3.9330206|\n",
            "|    169|    3456| 4.681539|\n",
            "|    169|    2162| 4.519024|\n",
            "|    169|    4427| 4.511673|\n",
            "|    183|    3456|4.7231307|\n",
            "|    183|    2162|4.6299386|\n",
            "|    183|    4427| 4.576907|\n",
            "|    268|    3456| 5.065378|\n",
            "+-------+--------+---------+\n",
            "\n"
          ]
        }
      ],
      "source": [
        "\n",
        "from pyspark.sql.functions import explode, col\n",
        "nrecommendations = user_recs\\\n",
        "    .withColumn(\"rec_exp\", explode(\"recommendations\"))\\\n",
        "    .select('user_id', col(\"rec_exp.movie_id\"), col(\"rec_exp.rating\"))\n",
        "nrecommendations.limit(10).show()"
      ]
    },
    {
      "cell_type": "code",
      "execution_count": 17,
      "metadata": {
        "colab": {
          "base_uri": "https://localhost:8080/"
        },
        "id": "LAH4Bbq7mcTf",
        "outputId": "0e6fdc67-a78c-4d60-8cf4-d51ab28f7dfc"
      },
      "outputs": [
        {
          "output_type": "stream",
          "name": "stdout",
          "text": [
            "+--------+----+---------+\n",
            "|movie_id|year|     name|\n",
            "+--------+----+---------+\n",
            "|       3|1997|Character|\n",
            "|       3|1997|Character|\n",
            "|       3|1997|Character|\n",
            "|       3|1997|Character|\n",
            "|       3|1997|Character|\n",
            "|       3|1997|Character|\n",
            "|       3|1997|Character|\n",
            "|       3|1997|Character|\n",
            "|       3|1997|Character|\n",
            "|       3|1997|Character|\n",
            "|       3|1997|Character|\n",
            "|       3|1997|Character|\n",
            "|       3|1997|Character|\n",
            "|       3|1997|Character|\n",
            "|       3|1997|Character|\n",
            "|       3|1997|Character|\n",
            "|       3|1997|Character|\n",
            "|       3|1997|Character|\n",
            "|       3|1997|Character|\n",
            "|       3|1997|Character|\n",
            "+--------+----+---------+\n",
            "only showing top 20 rows\n",
            "\n"
          ]
        }
      ],
      "source": [
        "#Generate movie id and name table\n",
        "user_data_df_drop = user_data_df.drop(*(\"user_id\", \"rating\"))\n",
        "user_data_df_drop.show()"
      ]
    },
    {
      "cell_type": "code",
      "execution_count": 18,
      "metadata": {
        "colab": {
          "base_uri": "https://localhost:8080/"
        },
        "id": "gnN6J9aWmfyF",
        "outputId": "ddb6d37c-5564-41b9-96c4-0124f4c8e20b"
      },
      "outputs": [
        {
          "output_type": "stream",
          "name": "stdout",
          "text": [
            "+--------+-------+---------+----+--------------------+\n",
            "|movie_id|user_id|   rating|year|                name|\n",
            "+--------+-------+---------+----+--------------------+\n",
            "|    3456|    906| 4.449913|2004|      Lost: Season 1|\n",
            "|    1476|    906|4.4608526|2004|Six Feet Under: S...|\n",
            "|    4427|    906| 4.454607|2001|The West Wing: Se...|\n",
            "+--------+-------+---------+----+--------------------+\n",
            "\n"
          ]
        }
      ],
      "source": [
        "#Join movie table with user_recs table\n",
        "nrecommendations.join(user_data_df_drop, on='movie_id',how=\"left\").filter('user_id = 906').dropDuplicates([\"movie_id\"]).show()"
      ]
    },
    {
      "cell_type": "code",
      "execution_count": 19,
      "metadata": {
        "id": "-4udPAJzmiAg"
      },
      "outputs": [],
      "source": [
        "#Join movie table with user_recs table\n",
        "final_recs = nrecommendations.join(user_data_df_drop, on='movie_id',how=\"left\").dropDuplicates([\"movie_id\"])"
      ]
    },
    {
      "cell_type": "code",
      "execution_count": 19,
      "metadata": {
        "id": "FEB8ZAJdpkWL"
      },
      "outputs": [],
      "source": []
    },
    {
      "cell_type": "code",
      "execution_count": 20,
      "metadata": {
        "id": "gx4i7OhOmzcW"
      },
      "outputs": [],
      "source": [
        "from google.colab import files\n",
        "final_recs.toPandas().to_csv(\"final_recs.csv\")"
      ]
    },
    {
      "cell_type": "code",
      "execution_count": 21,
      "metadata": {
        "colab": {
          "base_uri": "https://localhost:8080/",
          "height": 17
        },
        "id": "qaC_pqyHm3yw",
        "outputId": "54099ce4-2ed8-4121-9eb0-34164a64edf6"
      },
      "outputs": [
        {
          "output_type": "display_data",
          "data": {
            "text/plain": [
              "<IPython.core.display.Javascript object>"
            ],
            "application/javascript": [
              "\n",
              "    async function download(id, filename, size) {\n",
              "      if (!google.colab.kernel.accessAllowed) {\n",
              "        return;\n",
              "      }\n",
              "      const div = document.createElement('div');\n",
              "      const label = document.createElement('label');\n",
              "      label.textContent = `Downloading \"${filename}\": `;\n",
              "      div.appendChild(label);\n",
              "      const progress = document.createElement('progress');\n",
              "      progress.max = size;\n",
              "      div.appendChild(progress);\n",
              "      document.body.appendChild(div);\n",
              "\n",
              "      const buffers = [];\n",
              "      let downloaded = 0;\n",
              "\n",
              "      const channel = await google.colab.kernel.comms.open(id);\n",
              "      // Send a message to notify the kernel that we're ready.\n",
              "      channel.send({})\n",
              "\n",
              "      for await (const message of channel.messages) {\n",
              "        // Send a message to notify the kernel that we're ready.\n",
              "        channel.send({})\n",
              "        if (message.buffers) {\n",
              "          for (const buffer of message.buffers) {\n",
              "            buffers.push(buffer);\n",
              "            downloaded += buffer.byteLength;\n",
              "            progress.value = downloaded;\n",
              "          }\n",
              "        }\n",
              "      }\n",
              "      const blob = new Blob(buffers, {type: 'application/binary'});\n",
              "      const a = document.createElement('a');\n",
              "      a.href = window.URL.createObjectURL(blob);\n",
              "      a.download = filename;\n",
              "      div.appendChild(a);\n",
              "      a.click();\n",
              "      div.remove();\n",
              "    }\n",
              "  "
            ]
          },
          "metadata": {}
        },
        {
          "output_type": "display_data",
          "data": {
            "text/plain": [
              "<IPython.core.display.Javascript object>"
            ],
            "application/javascript": [
              "download(\"download_c86544df-94ef-43ec-b6fb-6f015c9584d4\", \"final_recs.csv\", 11056)"
            ]
          },
          "metadata": {}
        }
      ],
      "source": [
        "files.download('final_recs.csv')"
      ]
    }
  ],
  "metadata": {
    "colab": {
      "provenance": [],
      "collapsed_sections": []
    },
    "kernelspec": {
      "display_name": "Python 3",
      "name": "python3"
    },
    "language_info": {
      "name": "python"
    }
  },
  "nbformat": 4,
  "nbformat_minor": 0
}