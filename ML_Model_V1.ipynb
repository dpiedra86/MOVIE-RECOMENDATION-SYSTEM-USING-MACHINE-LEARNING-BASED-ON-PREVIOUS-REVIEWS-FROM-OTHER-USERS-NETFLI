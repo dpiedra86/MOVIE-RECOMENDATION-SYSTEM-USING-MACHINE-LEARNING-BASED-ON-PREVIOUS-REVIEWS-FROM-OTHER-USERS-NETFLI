{
 "cells": [
  {
   "cell_type": "code",
   "execution_count": null,
   "id": "f1734988",
   "metadata": {},
   "outputs": [],
   "source": [
    "#Import dependecies\n",
    "from path import Path\n",
    "import pandas as pd\n",
    "from pyspark.ml.recommendation import ALS\n",
    "from pyspark.ml.evaluation import RegressionEvaluator"
   ]
  },
  {
   "cell_type": "code",
   "execution_count": null,
   "id": "44250ac6",
   "metadata": {},
   "outputs": [],
   "source": [
    "#Read cleaned dataframe\n",
    "data = Path('../Resources/movies_ratings_df.csv')\n",
    "df = pd.read_csv(data)\n",
    "df.head()"
   ]
  },
  {
   "cell_type": "code",
   "execution_count": null,
   "id": "f607a8d2",
   "metadata": {},
   "outputs": [],
   "source": [
    "#Separate the feature(x) from the target\n",
    "y = df[\"Rating\"]\n",
    "X = df.drop(columns=\"Rating\")"
   ]
  },
  {
   "cell_type": "code",
   "execution_count": null,
   "id": "24029572",
   "metadata": {},
   "outputs": [],
   "source": [
    "# Split data into training and testing\n",
    "from sklearn.model_selection import train_test_split\n",
    "\n",
    "X_train, X_test, y_train, y_test = train_test_split(X, \n",
    "                                                    y, \n",
    "                                                    random_state=1, \n",
    "                                                    stratify=y)\n",
    "X_train.shape"
   ]
  },
  {
   "cell_type": "code",
   "execution_count": null,
   "id": "386bf19c",
   "metadata": {},
   "outputs": [],
   "source": [
    "#Create ALS model(we have to change the parameters, this is just an example of how it may look)\n",
    "als = ALS(maxIter=10, regParam=0.1, rank=8, nonnegative=True, coldStartStrategy=\"drop\",\\\n",
    "          userCol='userId', itemCol='movieId', ratingCol='rating')\n"
   ]
  },
  {
   "cell_type": "code",
   "execution_count": null,
   "id": "4876f859",
   "metadata": {},
   "outputs": [],
   "source": [
    "#Train model\n",
    "model = als.fit(X_train_data,y_train)"
   ]
  },
  {
   "cell_type": "code",
   "execution_count": null,
   "id": "5dd31c31",
   "metadata": {},
   "outputs": [],
   "source": [
    "# Make predictions\n",
    "predictions = als.predict(X_test)\n",
    "pd.DataFrame({\"Prediction\": predictions, \"Actual\": y_test})\n"
   ]
  },
  {
   "cell_type": "code",
   "execution_count": null,
   "id": "9816fcc4",
   "metadata": {},
   "outputs": [],
   "source": [
    "#Validate the model using the test data( generate confusion matrix to know the sensitivity and precision of the model )\n",
    "#(maybe use another metric)\n",
    "\n",
    "\n"
   ]
  },
  {
   "cell_type": "code",
   "execution_count": null,
   "id": "de7f1285",
   "metadata": {},
   "outputs": [],
   "source": []
  }
 ],
 "metadata": {
  "kernelspec": {
   "display_name": "mlenv",
   "language": "python",
   "name": "mlenv"
  },
  "language_info": {
   "codemirror_mode": {
    "name": "ipython",
    "version": 3
   },
   "file_extension": ".py",
   "mimetype": "text/x-python",
   "name": "python",
   "nbconvert_exporter": "python",
   "pygments_lexer": "ipython3",
   "version": "3.9.7"
  }
 },
 "nbformat": 4,
 "nbformat_minor": 5
}
